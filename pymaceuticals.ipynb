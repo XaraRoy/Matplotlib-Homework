{
 "cells": [
  {
   "cell_type": "code",
   "execution_count": null,
   "metadata": {},
   "outputs": [],
   "source": [
    "\n",
    "# Fix markers or kind, error bars\n",
    "\n",
    "%matplotlib inline\n",
    "# Dependencies and Setup\n",
    "# get_ipython().run_line_magic('matplotlib', 'inline')\n",
    "import matplotlib.pyplot as plt\n",
    "import pandas as pd\n",
    "import numpy as np\n",
    "from scipy import stats\n",
    "\n",
    "# Hide warning messages in notebook\n",
    "import warnings\n",
    "warnings.filterwarnings('ignore')\n",
    "\n",
    "# File to Load (Remember to Change These)\n",
    "mouse_drug_data = \"data/mouse_drug_data.csv\"\n",
    "clinical_trial_data = \"data/clinicaltrial_data.csv\"\n",
    "drug_df = pd.read_csv(mouse_drug_data)\n",
    "trial_df = pd.read_csv(clinical_trial_data)\n",
    "drugtrial_df = pd.merge(drug_df, trial_df, on=\"Mouse ID\")\n",
    "drugtrial_df.head()\n"
   ]
  },
  {
   "cell_type": "code",
   "execution_count": null,
   "metadata": {},
   "outputs": [],
   "source": []
  },
  {
   "cell_type": "code",
   "execution_count": null,
   "metadata": {},
   "outputs": [],
   "source": [
    "\n",
    "# In[3]:\n",
    "# Tumor Response to Treatment\n",
    "# Store the Mean Tumor Volume Data Grouped by Drug and Timepoint\n",
    "Avg_Tumor_Volume = drugtrial_df.groupby([\"Drug\", \"Timepoint\"]).agg(['mean', 'sem'])\n",
    "Avg_Tumor_Volume = Avg_Tumor_Volume.reset_index()\n",
    "Avg_Tumor_Volume = Avg_Tumor_Volume.drop(\"Metastatic Sites\", axis=1)\n",
    "sem = Avg_Tumor_Volume['Tumor Volume (mm3)']['sem']\n",
    "\n"
   ]
  },
  {
   "cell_type": "code",
   "execution_count": null,
   "metadata": {},
   "outputs": [],
   "source": [
    "# In[5]:\n",
    "# Minor Data Munging to Re-Format the Data Frames\n",
    "Table = Avg_Tumor_Volume.pivot_table(index=\"Timepoint\",\n",
    "                                     values=\"Tumor Volume (mm3)\",\n",
    "                                     columns=\"Drug\")\n",
    "Table.head()\n"
   ]
  },
  {
   "cell_type": "code",
   "execution_count": null,
   "metadata": {},
   "outputs": [],
   "source": [
    "\n",
    "# In[6]:\n",
    "styles = [\"o\", \".\", \",\", \"v\", \"1\", \"8\", \"s\", \"*\", \"+\",\"|\"]\n",
    "fig, ax = plt.subplots()\n",
    "for col, style in zip(Table.columns, styles):\n",
    "    Table[col].plot(kind=\"line\", linestyle=\"-\", style=style, ax=ax,\n",
    "                    figsize=(15, 8), xlim=(0, 48), grid=True, yerr=sem)\n",
    "ax.legend(loc=\"Best\")\n",
    "ax.set_xlabel(\"Time (Days)\")\n",
    "ax.set_ylabel(\"Tumor Volume (mm3)\")\n",
    "ax.set_title(\"Tumor Response to Treatment\")\n",
    "ax.set_figsize = (15, 8)\n",
    "plt.savefig('Tumor_Responses.png')"
   ]
  },
  {
   "cell_type": "code",
   "execution_count": null,
   "metadata": {},
   "outputs": [],
   "source": [
    "# Metastatic Response to Treatment\n",
    "# Store the Mean Met. Site Data Grouped by Drug and Timepoint\n",
    "Metastatic_Sites = drugtrial_df.groupby([\"Drug\", \"Timepoint\"]).agg(['mean', 'sem'])\n",
    "Metastatic_Sites = Metastatic_Sites.drop(\"Tumor Volume (mm3)\", axis=1)\n",
    "Metastatic_Sites = Metastatic_Sites.reset_index()\n",
    "sem = Metastatic_Sites['Metastatic Sites']['sem']\n",
    "Metastatic_Sites.head()"
   ]
  },
  {
   "cell_type": "code",
   "execution_count": null,
   "metadata": {},
   "outputs": [],
   "source": [
    "\n",
    "# In[10]:\n",
    "Table = Metastatic_Sites.pivot_table(index=\"Timepoint\",\n",
    "                                     values=\"Metastatic Sites\",\n",
    "                                     columns=\"Drug\")\n",
    "Table.head()"
   ]
  },
  {
   "cell_type": "code",
   "execution_count": null,
   "metadata": {},
   "outputs": [],
   "source": [
    "fig, ax = plt.subplots()\n",
    "for col, style in zip(Table.columns, styles):\n",
    "    Table[col].plot(linestyle=\"-\", style=style, ax=ax,\n",
    "                    figsize=(15, 8), xlim=(-0.5, 48),\n",
    "                    grid=True, ylim=(-0.1, 4), yerr=sem)\n",
    "ax.legend(loc=\"Best\")\n",
    "ax.set_xlabel(\"Time (Days)\")\n",
    "ax.set_ylabel(\"Metastatic Sites\")\n",
    "ax.set_title(\"Metastatic Spread During Treatment\")\n",
    "ax.set_figsize = (15, 8)\n",
    "plt.savefig('Metastatic_Sites.png')"
   ]
  },
  {
   "cell_type": "code",
   "execution_count": null,
   "metadata": {},
   "outputs": [],
   "source": [
    "\n",
    "# In[13]:\n",
    "# Survival Rates\n",
    "Mouse_Count = drugtrial_df.groupby([\"Drug\", \"Timepoint\"]).count()\n",
    "Mouse_Count = Mouse_Count.drop([\"Metastatic Sites\",\n",
    "                                \"Tumor Volume (mm3)\"], axis=1)\n",
    "Mouse_Count = Mouse_Count.reset_index()\n",
    "Mouse_Count.head()\n"
   ]
  },
  {
   "cell_type": "code",
   "execution_count": null,
   "metadata": {},
   "outputs": [],
   "source": [
    "# In[15]:\n",
    "Mouse_pct = Mouse_Count.groupby(['Drug', 'Timepoint']).sum()\n",
    "Mouse_pct = round(Mouse_pct.div(Mouse_pct.groupby('Drug').first()) * 100, 2)\n",
    "Mouse_pct = Mouse_pct.rename(columns={'Mouse ID': 'Percent Alive'})\n",
    "\n",
    "Mouse_pct.head()"
   ]
  },
  {
   "cell_type": "code",
   "execution_count": null,
   "metadata": {},
   "outputs": [],
   "source": [
    "# In[16]:\n",
    "\n",
    "\n",
    "# Minor Data Munging to Re-Format the Data Frames\n",
    "Table = Mouse_pct.pivot_table(index=\"Timepoint\",\n",
    "                              values='Percent Alive', columns=\"Drug\")\n",
    "Table.head()\n",
    "\n",
    "\n",
    "\n"
   ]
  },
  {
   "cell_type": "code",
   "execution_count": null,
   "metadata": {},
   "outputs": [],
   "source": [
    "# In[17]:\n",
    "fig, ax = plt.subplots()\n",
    "for col, style in zip(Table.columns, styles):\n",
    "    Table[col].plot(linestyle=\"-\", style=style, ax=ax,\n",
    "                    figsize=(15, 8), xlim=(-0.5, 48), grid=True, ylim=(0, 110))\n",
    "ax.legend(loc=\"Best\")\n",
    "ax.set_xlabel(\"Time (Days)\")\n",
    "ax.set_ylabel(\"Mouse Count\")\n",
    "ax.set_title(\"Survival During Treatment\")\n",
    "ax.set_figsize = (15, 8)\n",
    "plt.savefig('Survival Rate.png')\n"
   ]
  },
  {
   "cell_type": "code",
   "execution_count": null,
   "metadata": {},
   "outputs": [],
   "source": [
    "# Calculate the percent changes for each drug\n",
    "\n",
    "Tumor_Change = Avg_Tumor_Volume.pivot_table(index=\"Timepoint\",\n",
    "                                            values='Tumor Volume (mm3)',\n",
    "                                            columns=\"Drug\")\n",
    "Tumor_Change = round(Tumor_Change.pct_change()*100, 4)\n",
    "Tumor_Change = Tumor_Change.fillna(0)\n",
    "Tumor_Change = Tumor_Change.tail(1)\n",
    "Tumor_Change = Tumor_Change.stack()\n",
    "Tumor_Change = Tumor_Change.reset_index(level=0, drop=True)\n",
    "Tumor_Change.head(15)\n",
    "\n"
   ]
  },
  {
   "cell_type": "code",
   "execution_count": null,
   "metadata": {},
   "outputs": [],
   "source": [
    "Pct_Changed = sorted(tuple(zip(Tumor_Change['mean'], Tumor_Change.index)))\n",
    "Efficacy, Drug = zip(*Pct_Changed)\n",
    "\n",
    "colors = []\n",
    "for value in Efficacy:\n",
    "    if value > 0:\n",
    "        colors.append('r')\n",
    "    else:\n",
    "        colors.append('g')\n",
    "\n",
    "Efficacy"
   ]
  },
  {
   "cell_type": "code",
   "execution_count": null,
   "metadata": {},
   "outputs": [],
   "source": [
    "# In[62]:\n",
    "tick_locations = []\n",
    "x_axis = np.arange(0, len(Drug))\n",
    "for x in x_axis:\n",
    "    tick_locations.append(x)\n",
    "fig, ax = plt.subplots()\n",
    "rects1 = ax.bar(Drug, Efficacy, color=colors, alpha=0.75, align=\"center\")\n",
    "\n",
    "plt.title(\"Drug Efficacy After 45 Days\")\n",
    "plt.xlabel(\"Drug\")\n",
    "plt.ylabel(\"% Change in Tumor Volume\")\n",
    "plt.xlim(-0.75, len(Drug)-.25)\n",
    "plt.hlines(0, -0.75, len(Drug))\n",
    "plt.xticks(tick_locations, Drug, rotation=45)\n",
    "plt.savefig('Drug_Efficacy.png')\n",
    "\n",
    "\n",
    "def autolabel(rects):\n",
    "    for rect in rects:\n",
    "        height = rect.get_height()\n",
    "        ax.text(rect.get_x() + rect.get_width()/2., 1.05*height,\n",
    "                '%d' % int(height),\n",
    "                ha='center', va='bottom')\n",
    "\n",
    "autolabel(rects1)\n",
    "\n",
    "\n",
    "fig.show()"
   ]
  },
  {
   "cell_type": "code",
   "execution_count": null,
   "metadata": {},
   "outputs": [],
   "source": []
  }
 ],
 "metadata": {
  "anaconda-cloud": {},
  "kernelspec": {
   "display_name": "Python [conda env:PythonData]",
   "language": "python",
   "name": "conda-env-PythonData-py"
  },
  "language_info": {
   "codemirror_mode": {
    "name": "ipython",
    "version": 3
   },
   "file_extension": ".py",
   "mimetype": "text/x-python",
   "name": "python",
   "nbconvert_exporter": "python",
   "pygments_lexer": "ipython3",
   "version": "3.6.5"
  }
 },
 "nbformat": 4,
 "nbformat_minor": 1
}
